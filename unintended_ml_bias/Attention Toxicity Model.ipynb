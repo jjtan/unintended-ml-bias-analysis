{
 "cells": [
  {
   "cell_type": "code",
   "execution_count": null,
   "metadata": {
    "collapsed": true
   },
   "outputs": [],
   "source": [
    "import numpy as np\n",
    "import pandas as pd\n",
    "from sklearn import metrics\n",
    "from keras.preprocessing.sequence import pad_sequences\n",
    "\n",
    "from model_with_attention import AttentionToxModel\n",
    "\n",
    "model = AttentionToxModel(model_path='../models/jjtan_toxicity_model.h5', embeddings_path='../data/glove.6B/glove.6B.100d.txt')\n",
    "\n",
    "train = pd.read_csv('../data/kaggle_train.csv')\n",
    "validation = pd.read_csv('../data/kaggle_validation.csv')\n",
    "all_train = pd.concat([train, validation])\n",
    "\n",
    "model.train(all_train)\n",
    "data = pd.read_csv('../data/kaggle_test.csv')\n",
    "predictions = model.predict(data['comment_text'])\n",
    "model.score_auc(data)"
   ]
  }
 ],
 "metadata": {
  "kernelspec": {
   "display_name": "Python 2",
   "language": "python",
   "name": "python2"
  },
  "language_info": {
   "codemirror_mode": {
    "name": "ipython",
    "version": 2
   },
   "file_extension": ".py",
   "mimetype": "text/x-python",
   "name": "python",
   "nbconvert_exporter": "python",
   "pygments_lexer": "ipython2",
   "version": "2.7.13"
  }
 },
 "nbformat": 4,
 "nbformat_minor": 2
}
